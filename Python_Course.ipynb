{
  "nbformat": 4,
  "nbformat_minor": 0,
  "metadata": {
    "colab": {
      "name": "Python Course.ipynb",
      "provenance": [],
      "collapsed_sections": [],
      "include_colab_link": true
    },
    "kernelspec": {
      "name": "python3",
      "display_name": "Python 3"
    }
  },
  "cells": [
    {
      "cell_type": "markdown",
      "metadata": {
        "id": "view-in-github",
        "colab_type": "text"
      },
      "source": [
        "<a href=\"https://colab.research.google.com/github/lahorekid/ufo/blob/master/Python_Course.ipynb\" target=\"_parent\"><img src=\"https://colab.research.google.com/assets/colab-badge.svg\" alt=\"Open In Colab\"/></a>"
      ]
    },
    {
      "cell_type": "markdown",
      "metadata": {
        "id": "4ii7WRMURx1C",
        "colab_type": "text"
      },
      "source": [
        "# **Python Crash Course**\n",
        "\n",
        "\n",
        "\n"
      ]
    },
    {
      "cell_type": "markdown",
      "metadata": {
        "id": "jysdEP8sW8W8",
        "colab_type": "text"
      },
      "source": [
        "# First Program"
      ]
    },
    {
      "cell_type": "code",
      "metadata": {
        "id": "RnY7rjgZRmm7",
        "colab_type": "code",
        "colab": {}
      },
      "source": [
        "\n",
        "\n",
        "#Open the IDE\n",
        "#The first program for any programming language is “Hello World”\n",
        "\n",
        "print (\"Hello World\")\n",
        "\n",
        "# Execute\n",
        "\n",
        "Hello World"
      ],
      "execution_count": 0,
      "outputs": []
    },
    {
      "cell_type": "markdown",
      "metadata": {
        "id": "QCGFN6OhW_6g",
        "colab_type": "text"
      },
      "source": [
        "#Base Types"
      ]
    },
    {
      "cell_type": "code",
      "metadata": {
        "id": "Jzi_y0prW3xM",
        "colab_type": "code",
        "colab": {}
      },
      "source": [
        "# Integer \n",
        "# int 5 56 69 0\n",
        "\n",
        "int = 5 56 69 0\n",
        "\n",
        "# Float\n",
        "# float 9.45 0.55\n",
        "\n",
        "float = 9.45 0.55\n",
        "\n",
        "# Boolean\n",
        "# bool True False\n",
        "\n",
        "# String\n",
        "# str \"One\" \"Ahsan\"\n",
        "\n",
        "str = \"One\" , \"Ahsan\""
      ],
      "execution_count": 0,
      "outputs": []
    },
    {
      "cell_type": "markdown",
      "metadata": {
        "id": "N7RgGei4XHHu",
        "colab_type": "text"
      },
      "source": [
        "#Variables in Python"
      ]
    },
    {
      "cell_type": "code",
      "metadata": {
        "id": "bCe0rqj1XJk2",
        "colab_type": "code",
        "colab": {}
      },
      "source": [
        "# Declaring a variable\n",
        "# Whenever you use = you are assigning a value to some variable\n",
        "#For example we use an integer\n",
        "\n",
        "a = 1\n",
        "print (a)\n",
        "\n",
        "# Execute\n",
        "\n",
        "1\n",
        "\n",
        "# Re-assigning string to the same variable\n",
        "\n",
        "a = \"Ahsan\"\n",
        "print (a)\n",
        "\n",
        "# Execute\n",
        "\n",
        "Ahsan\n",
        "\n",
        "#Concatenate Variables a & b\n",
        "\n",
        "a = \"Ahsan\"\n",
        "b = 1989\n",
        "\n",
        "print (a+b)\n",
        "\n",
        "# Execute\n",
        "\n",
        "Traceback (most recent call last):\n",
        "  File \"python\", line 4, in <module>\n",
        "  TypeError: must be str, not int\n",
        "\n",
        "# We got an error becasue we cannot add an integer & a string\n",
        "# Hence we will convert integer to a string\n",
        "# Use str function\n",
        "\n",
        "print (a+str(b))\n",
        "\n",
        "# Execute\n",
        "\n",
        "Ahsan1989\n",
        "\n",
        "# If we want to add a space between an integer and string\n",
        "# Use \" \"\n",
        "\n",
        "print (a+\" \"+str(b))\n",
        "\n",
        "# Execute\n",
        "\n",
        "Ahsan 1989\n",
        "\n",
        "#Deleting a variable\n",
        "# Delete b\n",
        "\n",
        "del b\n",
        "\n",
        "print (a+\" \"+str(b))\n",
        "\n",
        "# Execute\n",
        "\n",
        "Traceback (most recent call last):\n",
        "  File \"python\", line 8, in <module>\n",
        "  NameError: name 'b' is not defined\n",
        "\n",
        "# b gets deleted hence the above NameError"
      ],
      "execution_count": 0,
      "outputs": []
    },
    {
      "cell_type": "markdown",
      "metadata": {
        "id": "JQPuacdoXM0C",
        "colab_type": "text"
      },
      "source": [
        "#Transforming Variables"
      ]
    },
    {
      "cell_type": "code",
      "metadata": {
        "id": "w1c05oYbXPab",
        "colab_type": "code",
        "colab": {}
      },
      "source": [
        "#Accessing value in strings\n",
        "\n",
        "a = \"Ahsan\"\n",
        "\n",
        "print(a[0])\n",
        "\n",
        "# Execute\n",
        "\n",
        "A\n",
        "\n",
        "# 0 is the first position in the variable\n",
        "# Same can be done with multiple variables\n",
        "\n",
        "a = \"Ahsan\"\n",
        "b = \"Will be teaching you python\"\n",
        "c = \"How cool is that?\"\n",
        "\n",
        "print(a[0:5],b[0:20],c[0:8])\n",
        "\n",
        "# Execute\n",
        "\n",
        "Ahsan Will be teaching you How cool"
      ],
      "execution_count": 0,
      "outputs": []
    },
    {
      "cell_type": "markdown",
      "metadata": {
        "id": "GvQjylpDXTI9",
        "colab_type": "text"
      },
      "source": [
        "#Lists"
      ]
    },
    {
      "cell_type": "code",
      "metadata": {
        "id": "RtcE022_XVSs",
        "colab_type": "code",
        "colab": {}
      },
      "source": [
        "# A list is a container type for storing different base types in Python\n",
        "\n",
        "# also called an array\n",
        "\n",
        "# List can be changed\n",
        "\n",
        "list1 = [1, 2, 4]\n",
        "list2 = [\"Ahsan\", \"Anis\", 1989]\n",
        "\n",
        "# Accessing different values in a list\n",
        "\n",
        "print(list1[1])\n",
        "\n",
        "# Execute\n",
        "\n",
        "2\n",
        "\n",
        "print(list2[0:1])\n",
        "\n",
        "# Execute\n",
        "\n",
        "['Ahsan']"
      ],
      "execution_count": 0,
      "outputs": []
    },
    {
      "cell_type": "markdown",
      "metadata": {
        "id": "nDCinvyzXXYB",
        "colab_type": "text"
      },
      "source": [
        "#Tuples"
      ]
    },
    {
      "cell_type": "code",
      "metadata": {
        "id": "QCiqLyeKXZcS",
        "colab_type": "code",
        "colab": {}
      },
      "source": [
        "# Tuples are like lists but are immutable meaning they cannot be changed\n",
        "\n",
        "tuple1 = (1, 2, 4)\n",
        "tuple2 = (\"Ahsan\", \"Anis\", 1989)\n",
        "\n",
        "print(tuple2[0:1])\n",
        "\n",
        "# Execute\n",
        "\n",
        "('Ahsan',)"
      ],
      "execution_count": 0,
      "outputs": []
    },
    {
      "cell_type": "markdown",
      "metadata": {
        "id": "uD9Iuh15XbYJ",
        "colab_type": "text"
      },
      "source": [
        "#Dictionary"
      ]
    },
    {
      "cell_type": "code",
      "metadata": {
        "id": "QFuaxMcEXdoC",
        "colab_type": "code",
        "colab": {}
      },
      "source": [
        "# Dictionary is an immutable data type such as strings, numbers, or tuples\n",
        "\n",
        "dict = {'Name': 'Ahsan', 'Age': 28, 'Position': 'Data Scientist'}\n",
        "\n",
        "print (dict['Name'], dict['Age'], dict['Position'])\n",
        "\n",
        "# Execute\n",
        "\n",
        "Ahsan 28 Data Scientist\n",
        "\n",
        "# Can also be written like this\n",
        "\n",
        "dict = {'Name': 'Ahsan', 'Age': 28, 'Position': 'Data Scientist'}\n",
        "\n",
        "print (\"dict['Name']: \", dict['Name'])\n",
        "\n",
        "print (\"dict['Age']: \", dict['Age'])\n",
        "\n",
        "print(\"dict['Position']:\", dict['Position'])\n",
        "\n",
        "# Execute\n",
        "\n",
        "dict['Name']:  Ahsan\n",
        "dict['Age']:  28\n",
        "dict['Position']: Data Scientist"
      ],
      "execution_count": 0,
      "outputs": []
    },
    {
      "cell_type": "markdown",
      "metadata": {
        "id": "thzqHtLIXfwt",
        "colab_type": "text"
      },
      "source": [
        "#Arrays"
      ]
    },
    {
      "cell_type": "code",
      "metadata": {
        "id": "tzIX0eiAXhoC",
        "colab_type": "code",
        "colab": {}
      },
      "source": [
        "# An array is a 1 dimensional data structure also known as a scalar\n",
        "\n",
        "arr = [100, 200, 300, 400, 500]\n",
        "\n",
        "print (arr[1:4])\n",
        "\n",
        "# Execute\n",
        "\n",
        "[200, 300, 400]"
      ],
      "execution_count": 0,
      "outputs": []
    },
    {
      "cell_type": "markdown",
      "metadata": {
        "id": "b0Hd8d7JXjxq",
        "colab_type": "text"
      },
      "source": [
        "#Matrix"
      ]
    },
    {
      "cell_type": "code",
      "metadata": {
        "id": "MosKtZJDXluW",
        "colab_type": "code",
        "colab": {}
      },
      "source": [
        "# A  A matrix is a 2 dimensional data structure\n",
        "\n",
        "matrix = [['Ahsan',8,8,8,8,8],\n",
        "         ['Anis',9,9,9,9,9],\n",
        "         ['Data',0,0,0,0,0],\n",
        "         ['Scientist',1,1,1,1,1]]\n",
        "\n",
        "print (matrix)\n",
        "\n",
        "# Execute\n",
        "\n",
        "[['Ahsan', 8, 8, 8, 8, 8], ['Anis', 9, 9, 9, 9, 9], ['Data', 0, 0, 0, 0, 0], ['Scientist', 1, 1, 1, 1, 1]]"
      ],
      "execution_count": 0,
      "outputs": []
    },
    {
      "cell_type": "markdown",
      "metadata": {
        "id": "WjS4uQrrXni9",
        "colab_type": "text"
      },
      "source": [
        "#Arithmetic Operators"
      ]
    },
    {
      "cell_type": "code",
      "metadata": {
        "id": "_APoJX5hXp5t",
        "colab_type": "code",
        "colab": {}
      },
      "source": [
        "# Addition\n",
        "\n",
        "a =  100\n",
        "b = 10\n",
        "\n",
        "print (a+b)\n",
        "\n",
        "# Execute\n",
        "\n",
        "110\n",
        "\n",
        "# Subtraction a-b = 90\n",
        "# Multiplication  a * b = 1000\n",
        "# Division a / b = 10\n",
        "# Modulus a % b = 0 , b % a = 10\n",
        "# Exponent a**b = 100000000000000000000"
      ],
      "execution_count": 0,
      "outputs": []
    },
    {
      "cell_type": "markdown",
      "metadata": {
        "id": "K9gwrYE_Xr0v",
        "colab_type": "text"
      },
      "source": [
        "#If statement"
      ]
    },
    {
      "cell_type": "code",
      "metadata": {
        "id": "EayFrAkYXuX_",
        "colab_type": "code",
        "colab": {}
      },
      "source": [
        "# If statetemnt is a boolean expression followed by one or more statements\n",
        "# Boolean statement are either True or False\n",
        "\n",
        "a = 100\n",
        "if a > = 10:\n",
        "     print (\"Thats a big number\")\n",
        "\n",
        "# Execute\n",
        "\n",
        "Thats a big number"
      ],
      "execution_count": 0,
      "outputs": []
    },
    {
      "cell_type": "markdown",
      "metadata": {
        "id": "kuwmGp7PXwIO",
        "colab_type": "text"
      },
      "source": [
        "#If…Else statement"
      ]
    },
    {
      "cell_type": "code",
      "metadata": {
        "id": "UZbwrduiXynV",
        "colab_type": "code",
        "colab": {}
      },
      "source": [
        "#If statement runs like usual, Else statement run if the first statement is False\n",
        "\n",
        "a = 9\n",
        "if a >= 10:\n",
        "     print (\"Thats a big number\")\n",
        "else:\n",
        "    print (\"Not a big number\")\n",
        "\n",
        "# Execute\n",
        "\n",
        "Not a big number"
      ],
      "execution_count": 0,
      "outputs": []
    },
    {
      "cell_type": "markdown",
      "metadata": {
        "id": "ZuTBk4OwX0M1",
        "colab_type": "text"
      },
      "source": [
        "#Elif statement"
      ]
    },
    {
      "cell_type": "code",
      "metadata": {
        "id": "JuIArfFEX2wU",
        "colab_type": "code",
        "colab": {}
      },
      "source": [
        "# Elif statement is a statement which you put after if statement\n",
        "\n",
        "a = 1\n",
        "if a > 0:\n",
        "     print (\"Thats a big number\")\n",
        "elif a == 0:\n",
        "    print (\"Not a big number\")\n",
        "else:\n",
        "    print (\"Put another number\")\n",
        "\n",
        "# Execute\n",
        "\n",
        "Thats a big number\n",
        "\n",
        "a = 0\n",
        "if a > 0:\n",
        "     print (\"Thats a big number\")\n",
        "elif a == 0:\n",
        "    print (\"Not a big number\")\n",
        "else:\n",
        "    print (\"Put another number\")\n",
        "\n",
        "# Execute\n",
        "\n",
        "Not a big number\n",
        "\n",
        "a = -2\n",
        "if a > 0:\n",
        "     print (\"Thats a big number\")\n",
        "elif a == 0:\n",
        "    print (\"Not a big number\")\n",
        "else:\n",
        "    print (\"Put another number\")\n",
        "\n",
        "# Execute\n",
        "\n",
        "Put another number"
      ],
      "execution_count": 0,
      "outputs": []
    },
    {
      "cell_type": "markdown",
      "metadata": {
        "id": "gvP34QBRX5Vm",
        "colab_type": "text"
      },
      "source": [
        "#Nested if statements"
      ]
    },
    {
      "cell_type": "code",
      "metadata": {
        "id": "PYVjO6U1X7MN",
        "colab_type": "code",
        "colab": {}
      },
      "source": [
        "# An if, else, elif statement within an if, else, elif statement is called a nested if statement \n",
        "\n",
        "num = float(input(\"Enter a number: \"))\n",
        "if num >= 0:\n",
        "    if num == 0:\n",
        "        print(\"Zero\")\n",
        "    else:\n",
        "        print(\"Positive number\")\n",
        "else:\n",
        "    print(\"Negative number\")"
      ],
      "execution_count": 0,
      "outputs": []
    },
    {
      "cell_type": "markdown",
      "metadata": {
        "id": "8nx34GVxX84V",
        "colab_type": "text"
      },
      "source": [
        "#For Loop"
      ]
    },
    {
      "cell_type": "code",
      "metadata": {
        "id": "G3M6MYl6X-se",
        "colab_type": "code",
        "colab": {}
      },
      "source": [
        "# a for loop executes till the last statement is reached\n",
        "\n",
        "numbers = [1, 2, 2, 8, 4]\n",
        "\n",
        "sum = 0\n",
        "\n",
        "for val in numbers:\n",
        " sum = sum+val\n",
        "\n",
        "print(\"The sum is\", sum)\n",
        "\n",
        "# Execute\n",
        "\n",
        "('The sum is', 17)"
      ],
      "execution_count": 0,
      "outputs": []
    },
    {
      "cell_type": "markdown",
      "metadata": {
        "id": "lAbW1gatYAnk",
        "colab_type": "text"
      },
      "source": [
        "#For loop with else"
      ]
    },
    {
      "cell_type": "code",
      "metadata": {
        "id": "fLEH0REoYC2m",
        "colab_type": "code",
        "colab": {}
      },
      "source": [
        "# Exactly like for loop, just that the else statement is printed at the end\n",
        "\n",
        "numbers = [1, 2, 3, 4, 5 , 6, 7, 8, 9, 10]\n",
        "\n",
        "for i in numbers:\n",
        "    print(i)\n",
        "else:\n",
        "    print(\"All numbers printed.\")\n",
        "\n",
        "# Execute\n",
        "\n",
        "1\n",
        "2\n",
        "3\n",
        "4\n",
        "5\n",
        "6\n",
        "7\n",
        "8\n",
        "9\n",
        "10\n",
        "All numbers printed."
      ],
      "execution_count": 0,
      "outputs": []
    },
    {
      "cell_type": "markdown",
      "metadata": {
        "id": "B0FkRbhwYE69",
        "colab_type": "text"
      },
      "source": [
        "#While loop"
      ]
    },
    {
      "cell_type": "code",
      "metadata": {
        "id": "MP_ahucKYHcT",
        "colab_type": "code",
        "colab": {}
      },
      "source": [
        "# a while loop iterates the statement as long as the statement is True\n",
        "\n",
        "number = 0\n",
        "while (number <= 10):\n",
        "   print 'The count is:', number\n",
        "   number = number + 1\n",
        "\n",
        "print \"All numbers printed\"\n",
        "\n",
        "# Execute\n",
        "\n",
        "The count is: 0\n",
        "The count is: 1\n",
        "The count is: 2\n",
        "The count is: 3\n",
        "The count is: 4\n",
        "The count is: 5\n",
        "The count is: 6\n",
        "The count is: 7\n",
        "The count is: 8\n",
        "The count is: 9\n",
        "The count is: 10\n",
        "All numbers printed"
      ],
      "execution_count": 0,
      "outputs": []
    },
    {
      "cell_type": "markdown",
      "metadata": {
        "id": "BCjd8nUiYJlW",
        "colab_type": "text"
      },
      "source": [
        "#While loop with else"
      ]
    },
    {
      "cell_type": "code",
      "metadata": {
        "id": "B6hv--hNYMLE",
        "colab_type": "code",
        "colab": {}
      },
      "source": [
        "# Same as while loop, else statement is executed when logic is false\n",
        "\n",
        "counter = 0\n",
        "\n",
        "while counter <= 10:\n",
        "    print(\"loop\")\n",
        "    counter = counter + 1\n",
        "else:\n",
        "    print(\"end loop\")\n",
        "\n",
        "# Execute\n",
        "\n",
        "loop\n",
        "loop\n",
        "loop\n",
        "loop\n",
        "loop\n",
        "loop\n",
        "loop\n",
        "loop\n",
        "loop\n",
        "loop\n",
        "loop\n",
        "end loop"
      ],
      "execution_count": 0,
      "outputs": []
    },
    {
      "cell_type": "markdown",
      "metadata": {
        "id": "STFSwszAYOU2",
        "colab_type": "text"
      },
      "source": [
        "#Break statement"
      ]
    },
    {
      "cell_type": "code",
      "metadata": {
        "id": "iA9G8ipuYQIT",
        "colab_type": "code",
        "colab": {}
      },
      "source": [
        "# Break statement is used to stop the loop in its tracks\n",
        "\n",
        "for val in \"Ahsan\":\n",
        "    if val == \"n\":\n",
        "        break\n",
        "    print(val)\n",
        "\n",
        "print(\"loop end\")\n",
        "\n",
        "# Execute\n",
        "\n",
        "A\n",
        "h\n",
        "s\n",
        "a\n",
        "loop end"
      ],
      "execution_count": 0,
      "outputs": []
    },
    {
      "cell_type": "markdown",
      "metadata": {
        "id": "LoAZL6HIYR6e",
        "colab_type": "text"
      },
      "source": [
        "#Continue statement"
      ]
    },
    {
      "cell_type": "code",
      "metadata": {
        "id": "11m0tZKAYT4o",
        "colab_type": "code",
        "colab": {}
      },
      "source": [
        "# Continue statement unlike break continues to print the statement till it finishes\n",
        "\n",
        "for val in \"Ahsan\":\n",
        "    if val == \"a\":\n",
        "        continue\n",
        "    print(val)\n",
        "\n",
        "print(\"loop end\")\n",
        "\n",
        "# Execute\n",
        "\n",
        "A\n",
        "h\n",
        "s\n",
        "n\n",
        "loop end"
      ],
      "execution_count": 0,
      "outputs": []
    }
  ]
}